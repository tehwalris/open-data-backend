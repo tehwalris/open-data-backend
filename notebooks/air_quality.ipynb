{
 "cells": [
  {
   "cell_type": "code",
   "execution_count": 1,
   "id": "66b346eb-2a43-4d64-b835-d41574a52166",
   "metadata": {},
   "outputs": [],
   "source": [
    "import pandas as pd\n",
    "import numpy as np\n",
    "from matplotlib import pyplot as plt"
   ]
  },
  {
   "cell_type": "code",
   "execution_count": 9,
   "id": "96b6cf58-6f93-4316-a7e5-8a87e43842ac",
   "metadata": {},
   "outputs": [
    {
     "name": "stdout",
     "output_type": "stream",
     "text": [
      "The autoreload extension is already loaded. To reload it, use:\n",
      "  %reload_ext autoreload\n"
     ]
    }
   ],
   "source": [
    "import os\n",
    "import sys\n",
    "\n",
    "module_path = os.path.abspath(os.path.join('..'))\n",
    "if module_path not in sys.path:\n",
    "    sys.path.append(module_path)\n",
    "    \n",
    "%load_ext autoreload\n",
    "%autoreload 2\n",
    "\n",
    "from src.air_quality import load_single_air_quality_csv\n",
    "from src.path import get_path_from_root"
   ]
  },
  {
   "cell_type": "code",
   "execution_count": 11,
   "id": "63c6dfcc-e4b5-48e8-8096-4d50d7b80cbc",
   "metadata": {},
   "outputs": [],
   "source": [
    "df = load_single_air_quality_csv(get_path_from_root('data/air_quality/2020.csv'))"
   ]
  },
  {
   "cell_type": "code",
   "execution_count": 12,
   "id": "8756bad4-f471-40a4-8482-d0b6664af512",
   "metadata": {},
   "outputs": [
    {
     "data": {
      "text/plain": [
       "DatetimeIndex(['2020-01-01 00:00:00+01:00', '2020-01-01 00:00:00+01:00',\n",
       "               '2020-01-01 00:00:00+01:00', '2020-01-01 00:00:00+01:00',\n",
       "               '2020-01-01 00:00:00+01:00', '2020-01-01 00:00:00+01:00',\n",
       "               '2020-01-01 00:00:00+01:00', '2020-01-01 00:00:00+01:00',\n",
       "               '2020-01-01 00:00:00+01:00', '2020-01-01 00:00:00+01:00',\n",
       "               ...\n",
       "               '2020-12-31 22:00:00+01:00', '2020-12-31 22:00:00+01:00',\n",
       "               '2020-12-31 22:00:00+01:00', '2020-12-31 22:00:00+01:00',\n",
       "               '2020-12-31 22:00:00+01:00', '2020-12-31 22:00:00+01:00',\n",
       "               '2020-12-31 22:00:00+01:00', '2020-12-31 22:00:00+01:00',\n",
       "               '2020-12-31 22:00:00+01:00', '2020-12-31 22:00:00+01:00'],\n",
       "              dtype='datetime64[ns, pytz.FixedOffset(60)]', name='date', length=210792, freq=None)"
      ]
     },
     "execution_count": 12,
     "metadata": {},
     "output_type": "execute_result"
    }
   ],
   "source": [
    "df.index"
   ]
  },
  {
   "cell_type": "code",
   "execution_count": 4,
   "id": "5ef976ff-703d-4405-8ec9-a3d32342e118",
   "metadata": {},
   "outputs": [
    {
     "data": {
      "text/html": [
       "<div>\n",
       "<style scoped>\n",
       "    .dataframe tbody tr th:only-of-type {\n",
       "        vertical-align: middle;\n",
       "    }\n",
       "\n",
       "    .dataframe tbody tr th {\n",
       "        vertical-align: top;\n",
       "    }\n",
       "\n",
       "    .dataframe thead th {\n",
       "        text-align: right;\n",
       "    }\n",
       "</style>\n",
       "<table border=\"1\" class=\"dataframe\">\n",
       "  <thead>\n",
       "    <tr style=\"text-align: right;\">\n",
       "      <th></th>\n",
       "      <th></th>\n",
       "      <th></th>\n",
       "      <th>value</th>\n",
       "    </tr>\n",
       "    <tr>\n",
       "      <th>date</th>\n",
       "      <th>location</th>\n",
       "      <th>pollutant</th>\n",
       "      <th></th>\n",
       "    </tr>\n",
       "  </thead>\n",
       "  <tbody>\n",
       "    <tr>\n",
       "      <th rowspan=\"5\" valign=\"top\">1983-01-31 00:00:00+01:00</th>\n",
       "      <th rowspan=\"5\" valign=\"top\">Zch_Stampfenbachstrasse</th>\n",
       "      <th>CO</th>\n",
       "      <td>3.694595</td>\n",
       "    </tr>\n",
       "    <tr>\n",
       "      <th>NO</th>\n",
       "      <td>162.235459</td>\n",
       "    </tr>\n",
       "    <tr>\n",
       "      <th>NO2</th>\n",
       "      <td>38.538595</td>\n",
       "    </tr>\n",
       "    <tr>\n",
       "      <th>NOx</th>\n",
       "      <td>150.223581</td>\n",
       "    </tr>\n",
       "    <tr>\n",
       "      <th>SO2</th>\n",
       "      <td>84.384788</td>\n",
       "    </tr>\n",
       "    <tr>\n",
       "      <th>...</th>\n",
       "      <th>...</th>\n",
       "      <th>...</th>\n",
       "      <td>...</td>\n",
       "    </tr>\n",
       "    <tr>\n",
       "      <th rowspan=\"5\" valign=\"top\">2021-09-30 00:00:00+01:00</th>\n",
       "      <th rowspan=\"5\" valign=\"top\">Zch_Stampfenbachstrasse</th>\n",
       "      <th>NOx</th>\n",
       "      <td>17.679002</td>\n",
       "    </tr>\n",
       "    <tr>\n",
       "      <th>O3</th>\n",
       "      <td>52.432014</td>\n",
       "    </tr>\n",
       "    <tr>\n",
       "      <th>PM10</th>\n",
       "      <td>14.939948</td>\n",
       "    </tr>\n",
       "    <tr>\n",
       "      <th>PM2.5</th>\n",
       "      <td>10.244136</td>\n",
       "    </tr>\n",
       "    <tr>\n",
       "      <th>SO2</th>\n",
       "      <td>0.641331</td>\n",
       "    </tr>\n",
       "  </tbody>\n",
       "</table>\n",
       "<p>6224 rows × 1 columns</p>\n",
       "</div>"
      ],
      "text/plain": [
       "                                                                  value\n",
       "date                      location                pollutant            \n",
       "1983-01-31 00:00:00+01:00 Zch_Stampfenbachstrasse CO           3.694595\n",
       "                                                  NO         162.235459\n",
       "                                                  NO2         38.538595\n",
       "                                                  NOx        150.223581\n",
       "                                                  SO2         84.384788\n",
       "...                                                                 ...\n",
       "2021-09-30 00:00:00+01:00 Zch_Stampfenbachstrasse NOx         17.679002\n",
       "                                                  O3          52.432014\n",
       "                                                  PM10        14.939948\n",
       "                                                  PM2.5       10.244136\n",
       "                                                  SO2          0.641331\n",
       "\n",
       "[6224 rows x 1 columns]"
      ]
     },
     "execution_count": 4,
     "metadata": {},
     "output_type": "execute_result"
    }
   ],
   "source": [
    "df = load_air_quality(lambda index: pd.Grouper(freq='M'))\n",
    "df"
   ]
  },
  {
   "cell_type": "code",
   "execution_count": 26,
   "id": "3e14074e-48aa-4a19-8432-168524fae619",
   "metadata": {},
   "outputs": [
    {
     "data": {
      "text/plain": [
       "CategoricalIndex(['Zch_Heubeeribüel', 'Zch_Rosengartenstrasse',\n",
       "                  'Zch_Schimmelstrasse', 'Zch_Stampfenbachstrasse'],\n",
       "                 categories=['Zch_Heubeeribüel', 'Zch_Rosengartenstrasse', 'Zch_Schimmelstrasse', 'Zch_Stampfenbachstrasse'], ordered=False, name='location', dtype='category')"
      ]
     },
     "execution_count": 26,
     "metadata": {},
     "output_type": "execute_result"
    }
   ],
   "source": [
    "df.index.get_level_values('location').unique()"
   ]
  },
  {
   "cell_type": "code",
   "execution_count": 25,
   "id": "9a3c9c43-ed39-440e-b887-c0ba07ab8b84",
   "metadata": {},
   "outputs": [
    {
     "data": {
      "text/plain": [
       "<AxesSubplot:xlabel='date'>"
      ]
     },
     "execution_count": 25,
     "metadata": {},
     "output_type": "execute_result"
    },
    {
     "data": {
      "image/png": "[encoded data removed]",
      "text/plain": [
       "<Figure size 432x288 with 1 Axes>"
      ]
     },
     "metadata": {
      "needs_background": "light"
     },
     "output_type": "display_data"
    }
   ],
   "source": [
    "df.loc[pd.IndexSlice[:, 'Zch_Stampfenbachstrasse', 'CO']].plot()"
   ]
  },
  {
   "cell_type": "code",
   "execution_count": 62,
   "id": "2a5e0c05-f870-4466-847c-11075224af8e",
   "metadata": {},
   "outputs": [
    {
     "data": {
      "image/png": "[encoded data removed]",
      "text/plain": [
       "<Figure size 432x288 with 1 Axes>"
      ]
     },
     "metadata": {
      "needs_background": "light"
     },
     "output_type": "display_data"
    }
   ],
   "source": [
    "temp = df.reset_index()\n",
    "temp = temp.groupby(['date', 'pollutant']).mean()['value'].unstack('pollutant')\n",
    "temp = temp.sort_index()\n",
    "temp = temp / temp.iloc[0]\n",
    "temp = temp.mean(axis=1)\n",
    "temp.plot();"
   ]
  },
  {
   "cell_type": "code",
   "execution_count": 38,
   "id": "bb826618-087c-4a48-b8ee-5980c07f3479",
   "metadata": {},
   "outputs": [
    {
     "data": {
      "text/plain": [
       "{'date': '2021-09-29T23:00:00.000000000',\n",
       " 'values': {'CO': 0.22578671328671346,\n",
       "  'NO': 11.506445494050418,\n",
       "  'NO2': 24.75514314675781,\n",
       "  'NOx': 22.170292999256556,\n",
       "  'O3': 52.591168301606025,\n",
       "  'PM10': 15.240036692844676,\n",
       "  'PM2.5': 10.867979770215237,\n",
       "  'SO2': 0.6413309982486862}}"
      ]
     },
     "execution_count": 38,
     "metadata": {},
     "output_type": "execute_result"
    }
   ],
   "source": [
    "temp = df.loc[pd.IndexSlice[df.index.get_level_values('date').max(), :, :]]\n",
    "temp = temp.reset_index()\n",
    "temp = temp.groupby(['date', 'pollutant']).mean()['value'].unstack('pollutant')\n",
    "{ 'date': np.datetime_as_string(temp.index.values[0]), 'values': temp.iloc[0].to_dict() }"
   ]
  },
  {
   "cell_type": "code",
   "execution_count": 63,
   "id": "32a7a543-08ad-4f73-b16c-dffa5345853e",
   "metadata": {},
   "outputs": [
    {
     "data": {
      "text/plain": [
       "array([0])"
      ]
     },
     "execution_count": 63,
     "metadata": {},
     "output_type": "execute_result"
    }
   ],
   "source": [
    "df.reset_index().date.dt.hour.unique()"
   ]
  },
  {
   "cell_type": "code",
   "execution_count": null,
   "id": "163d1769-6d92-49a1-a75c-4f68014e0c57",
   "metadata": {},
   "outputs": [],
   "source": []
  }
 ],
 "metadata": {
  "kernelspec": {
   "display_name": "Python 3",
   "language": "python",
   "name": "python3"
  },
  "language_info": {
   "codemirror_mode": {
    "name": "ipython",
    "version": 3
   },
   "file_extension": ".py",
   "mimetype": "text/x-python",
   "name": "python",
   "nbconvert_exporter": "python",
   "pygments_lexer": "ipython3",
   "version": "3.9.6"
  }
 },
 "nbformat": 4,
 "nbformat_minor": 5
}
