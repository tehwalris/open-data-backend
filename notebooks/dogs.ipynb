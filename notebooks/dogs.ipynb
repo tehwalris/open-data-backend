{
 "cells": [
  {
   "cell_type": "code",
   "execution_count": 1,
   "id": "66b346eb-2a43-4d64-b835-d41574a52166",
   "metadata": {},
   "outputs": [],
   "source": [
    "import pandas as pd\n",
    "import numpy as np\n",
    "from matplotlib import pyplot as plt"
   ]
  },
  {
   "cell_type": "code",
   "execution_count": 2,
   "id": "96b6cf58-6f93-4316-a7e5-8a87e43842ac",
   "metadata": {},
   "outputs": [],
   "source": [
    "import os\n",
    "import sys\n",
    "\n",
    "module_path = os.path.abspath(os.path.join('..'))\n",
    "if module_path not in sys.path:\n",
    "    sys.path.append(module_path)\n",
    "    \n",
    "%load_ext autoreload\n",
    "%autoreload 2\n",
    "\n",
    "from src.dogs import load_data"
   ]
  },
  {
   "cell_type": "code",
   "execution_count": 3,
   "id": "5ef976ff-703d-4405-8ec9-a3d32342e118",
   "metadata": {},
   "outputs": [
    {
     "data": {
      "text/html": [
       "<div>\n",
       "<style scoped>\n",
       "    .dataframe tbody tr th:only-of-type {\n",
       "        vertical-align: middle;\n",
       "    }\n",
       "\n",
       "    .dataframe tbody tr th {\n",
       "        vertical-align: top;\n",
       "    }\n",
       "\n",
       "    .dataframe thead th {\n",
       "        text-align: right;\n",
       "    }\n",
       "</style>\n",
       "<table border=\"1\" class=\"dataframe\">\n",
       "  <thead>\n",
       "    <tr style=\"text-align: right;\">\n",
       "      <th></th>\n",
       "      <th>HALTER_ID</th>\n",
       "      <th>ALTER</th>\n",
       "      <th>GESCHLECHT</th>\n",
       "      <th>STADTKREIS</th>\n",
       "      <th>STADTQUARTIER</th>\n",
       "      <th>RASSE1</th>\n",
       "      <th>RASSE1_MISCHLING</th>\n",
       "      <th>RASSE2</th>\n",
       "      <th>RASSE2_MISCHLING</th>\n",
       "      <th>RASSENTYP</th>\n",
       "      <th>GEBURTSJAHR_HUND</th>\n",
       "      <th>GESCHLECHT_HUND</th>\n",
       "      <th>HUNDEFARBE</th>\n",
       "    </tr>\n",
       "  </thead>\n",
       "  <tbody>\n",
       "    <tr>\n",
       "      <th>0</th>\n",
       "      <td>155048</td>\n",
       "      <td>41-50</td>\n",
       "      <td>w</td>\n",
       "      <td>10</td>\n",
       "      <td>101</td>\n",
       "      <td>Mischling gross</td>\n",
       "      <td>NaN</td>\n",
       "      <td>NaN</td>\n",
       "      <td>NaN</td>\n",
       "      <td>I</td>\n",
       "      <td>2019</td>\n",
       "      <td>m</td>\n",
       "      <td>grau/braun</td>\n",
       "    </tr>\n",
       "    <tr>\n",
       "      <th>1</th>\n",
       "      <td>119231</td>\n",
       "      <td>71-80</td>\n",
       "      <td>w</td>\n",
       "      <td>10</td>\n",
       "      <td>101</td>\n",
       "      <td>Golden Retriever</td>\n",
       "      <td>NaN</td>\n",
       "      <td>NaN</td>\n",
       "      <td>NaN</td>\n",
       "      <td>I</td>\n",
       "      <td>2011</td>\n",
       "      <td>w</td>\n",
       "      <td>golden</td>\n",
       "    </tr>\n",
       "    <tr>\n",
       "      <th>2</th>\n",
       "      <td>146137</td>\n",
       "      <td>41-50</td>\n",
       "      <td>w</td>\n",
       "      <td>10</td>\n",
       "      <td>101</td>\n",
       "      <td>Dalmatiner</td>\n",
       "      <td>NaN</td>\n",
       "      <td>NaN</td>\n",
       "      <td>NaN</td>\n",
       "      <td>I</td>\n",
       "      <td>2014</td>\n",
       "      <td>m</td>\n",
       "      <td>schwarz/weiss</td>\n",
       "    </tr>\n",
       "    <tr>\n",
       "      <th>3</th>\n",
       "      <td>83856</td>\n",
       "      <td>61-70</td>\n",
       "      <td>w</td>\n",
       "      <td>10</td>\n",
       "      <td>101</td>\n",
       "      <td>Tibet Terrier</td>\n",
       "      <td>NaN</td>\n",
       "      <td>NaN</td>\n",
       "      <td>NaN</td>\n",
       "      <td>K</td>\n",
       "      <td>2012</td>\n",
       "      <td>m</td>\n",
       "      <td>zobel</td>\n",
       "    </tr>\n",
       "    <tr>\n",
       "      <th>4</th>\n",
       "      <td>118377</td>\n",
       "      <td>31-40</td>\n",
       "      <td>m</td>\n",
       "      <td>10</td>\n",
       "      <td>101</td>\n",
       "      <td>Deutscher Schäfer</td>\n",
       "      <td>NaN</td>\n",
       "      <td>NaN</td>\n",
       "      <td>NaN</td>\n",
       "      <td>I</td>\n",
       "      <td>2013</td>\n",
       "      <td>w</td>\n",
       "      <td>grau</td>\n",
       "    </tr>\n",
       "    <tr>\n",
       "      <th>...</th>\n",
       "      <td>...</td>\n",
       "      <td>...</td>\n",
       "      <td>...</td>\n",
       "      <td>...</td>\n",
       "      <td>...</td>\n",
       "      <td>...</td>\n",
       "      <td>...</td>\n",
       "      <td>...</td>\n",
       "      <td>...</td>\n",
       "      <td>...</td>\n",
       "      <td>...</td>\n",
       "      <td>...</td>\n",
       "      <td>...</td>\n",
       "    </tr>\n",
       "    <tr>\n",
       "      <th>8569</th>\n",
       "      <td>156044</td>\n",
       "      <td>21-30</td>\n",
       "      <td>w</td>\n",
       "      <td>9</td>\n",
       "      <td>92</td>\n",
       "      <td>Französische Bulldogge</td>\n",
       "      <td>NaN</td>\n",
       "      <td>NaN</td>\n",
       "      <td>NaN</td>\n",
       "      <td>K</td>\n",
       "      <td>2014</td>\n",
       "      <td>m</td>\n",
       "      <td>grau</td>\n",
       "    </tr>\n",
       "    <tr>\n",
       "      <th>8570</th>\n",
       "      <td>156020</td>\n",
       "      <td>31-40</td>\n",
       "      <td>m</td>\n",
       "      <td>9</td>\n",
       "      <td>92</td>\n",
       "      <td>Whippet</td>\n",
       "      <td>NaN</td>\n",
       "      <td>NaN</td>\n",
       "      <td>NaN</td>\n",
       "      <td>I</td>\n",
       "      <td>2020</td>\n",
       "      <td>w</td>\n",
       "      <td>sand/weiss</td>\n",
       "    </tr>\n",
       "    <tr>\n",
       "      <th>8571</th>\n",
       "      <td>81004</td>\n",
       "      <td>61-70</td>\n",
       "      <td>w</td>\n",
       "      <td>9</td>\n",
       "      <td>92</td>\n",
       "      <td>Mischling klein</td>\n",
       "      <td>NaN</td>\n",
       "      <td>NaN</td>\n",
       "      <td>NaN</td>\n",
       "      <td>K</td>\n",
       "      <td>2015</td>\n",
       "      <td>m</td>\n",
       "      <td>beige/schwarz</td>\n",
       "    </tr>\n",
       "    <tr>\n",
       "      <th>8572</th>\n",
       "      <td>126685</td>\n",
       "      <td>31-40</td>\n",
       "      <td>w</td>\n",
       "      <td>9</td>\n",
       "      <td>92</td>\n",
       "      <td>Barbet</td>\n",
       "      <td>NaN</td>\n",
       "      <td>NaN</td>\n",
       "      <td>NaN</td>\n",
       "      <td>I</td>\n",
       "      <td>2015</td>\n",
       "      <td>m</td>\n",
       "      <td>schwarz</td>\n",
       "    </tr>\n",
       "    <tr>\n",
       "      <th>8573</th>\n",
       "      <td>155972</td>\n",
       "      <td>21-30</td>\n",
       "      <td>m</td>\n",
       "      <td>9</td>\n",
       "      <td>92</td>\n",
       "      <td>Beagle</td>\n",
       "      <td>NaN</td>\n",
       "      <td>NaN</td>\n",
       "      <td>NaN</td>\n",
       "      <td>K</td>\n",
       "      <td>2019</td>\n",
       "      <td>w</td>\n",
       "      <td>tricolor</td>\n",
       "    </tr>\n",
       "  </tbody>\n",
       "</table>\n",
       "<p>8574 rows × 13 columns</p>\n",
       "</div>"
      ],
      "text/plain": [
       "      HALTER_ID  ALTER GESCHLECHT  STADTKREIS  STADTQUARTIER  \\\n",
       "0        155048  41-50          w          10            101   \n",
       "1        119231  71-80          w          10            101   \n",
       "2        146137  41-50          w          10            101   \n",
       "3         83856  61-70          w          10            101   \n",
       "4        118377  31-40          m          10            101   \n",
       "...         ...    ...        ...         ...            ...   \n",
       "8569     156044  21-30          w           9             92   \n",
       "8570     156020  31-40          m           9             92   \n",
       "8571      81004  61-70          w           9             92   \n",
       "8572     126685  31-40          w           9             92   \n",
       "8573     155972  21-30          m           9             92   \n",
       "\n",
       "                      RASSE1 RASSE1_MISCHLING RASSE2  RASSE2_MISCHLING  \\\n",
       "0            Mischling gross              NaN    NaN               NaN   \n",
       "1           Golden Retriever              NaN    NaN               NaN   \n",
       "2                 Dalmatiner              NaN    NaN               NaN   \n",
       "3              Tibet Terrier              NaN    NaN               NaN   \n",
       "4          Deutscher Schäfer              NaN    NaN               NaN   \n",
       "...                      ...              ...    ...               ...   \n",
       "8569  Französische Bulldogge              NaN    NaN               NaN   \n",
       "8570                 Whippet              NaN    NaN               NaN   \n",
       "8571         Mischling klein              NaN    NaN               NaN   \n",
       "8572                  Barbet              NaN    NaN               NaN   \n",
       "8573                  Beagle              NaN    NaN               NaN   \n",
       "\n",
       "     RASSENTYP  GEBURTSJAHR_HUND GESCHLECHT_HUND     HUNDEFARBE  \n",
       "0            I              2019               m     grau/braun  \n",
       "1            I              2011               w         golden  \n",
       "2            I              2014               m  schwarz/weiss  \n",
       "3            K              2012               m          zobel  \n",
       "4            I              2013               w           grau  \n",
       "...        ...               ...             ...            ...  \n",
       "8569         K              2014               m           grau  \n",
       "8570         I              2020               w     sand/weiss  \n",
       "8571         K              2015               m  beige/schwarz  \n",
       "8572         I              2015               m        schwarz  \n",
       "8573         K              2019               w       tricolor  \n",
       "\n",
       "[8574 rows x 13 columns]"
      ]
     },
     "execution_count": 3,
     "metadata": {},
     "output_type": "execute_result"
    }
   ],
   "source": [
    "df = load_data()\n",
    "df"
   ]
  },
  {
   "cell_type": "code",
   "execution_count": 88,
   "id": "a9958abc",
   "metadata": {
    "scrolled": true
   },
   "outputs": [
    {
     "name": "stdout",
     "output_type": "stream",
     "text": [
      "   GESCHLECHT_HUND\n",
      "m             4291\n",
      "w             4283\n"
     ]
    },
    {
     "data": {
      "text/plain": [
       "<AxesSubplot:ylabel='GESCHLECHT_HUND'>"
      ]
     },
     "execution_count": 88,
     "metadata": {},
     "output_type": "execute_result"
    },
    {
     "data": {
      "image/png": "[encoded data removed]",
      "text/plain": [
       "<Figure size 432x288 with 1 Axes>"
      ]
     },
     "metadata": {},
     "output_type": "display_data"
    }
   ],
   "source": [
    "temp = df[\"GESCHLECHT_HUND\"].value_counts()\n",
    "\n",
    "print(temp.to_frame())\n",
    "temp.plot.pie()"
   ]
  },
  {
   "cell_type": "code",
   "execution_count": 81,
   "id": "8c04f8b8-dc88-44dc-a937-4e73aa10df4f",
   "metadata": {},
   "outputs": [
    {
     "name": "stdout",
     "output_type": "stream",
     "text": [
      "4041\n"
     ]
    },
    {
     "data": {
      "text/plain": [
       "<AxesSubplot:>"
      ]
     },
     "execution_count": 81,
     "metadata": {},
     "output_type": "execute_result"
    },
    {
     "data": {
      "image/png": "[encoded data removed]",
      "text/plain": [
       "<Figure size 432x288 with 1 Axes>"
      ]
     },
     "metadata": {},
     "output_type": "display_data"
    },
    {
     "data": {
      "image/png": "[encoded data removed]",
      "text/plain": [
       "<Figure size 432x288 with 1 Axes>"
      ]
     },
     "metadata": {
      "needs_background": "light"
     },
     "output_type": "display_data"
    }
   ],
   "source": [
    "temp = df[\"GESCHLECHT\"].value_counts()\n",
    "temp.plot.pie()\n",
    "\n",
    "temp = df[\"RASSE1\"].value_counts().sort_values()\n",
    "size = temp.size\n",
    "others = (df[\"RASSE1\"].value_counts().tail(size-15).sum())\n",
    "print(others)\n",
    "temp = df[\"RASSE1\"].value_counts().head(15)\n",
    "\n",
    "temp[\"Andere\"] = others\n",
    "temp = temp.to_frame()\n",
    "\n",
    "\n",
    "\n",
    "temp.plot.bar()"
   ]
  },
  {
   "cell_type": "code",
   "execution_count": 74,
   "id": "9a80ca13-b26e-4b3e-8bfb-8dd04d95b1cc",
   "metadata": {},
   "outputs": [
    {
     "data": {
      "text/plain": [
       "<AxesSubplot:>"
      ]
     },
     "execution_count": 74,
     "metadata": {},
     "output_type": "execute_result"
    },
    {
     "data": {
      "image/png": "[encoded data removed]",
      "text/plain": [
       "<Figure size 432x288 with 1 Axes>"
      ]
     },
     "metadata": {},
     "output_type": "display_data"
    },
    {
     "data": {
      "image/png": "[encoded data removed]",
      "text/plain": [
       "<Figure size 432x288 with 1 Axes>"
      ]
     },
     "metadata": {
      "needs_background": "light"
     },
     "output_type": "display_data"
    },
    {
     "data": {
      "image/png": "[encoded data removed]",
      "text/plain": [
       "<Figure size 432x288 with 1 Axes>"
      ]
     },
     "metadata": {
      "needs_background": "light"
     },
     "output_type": "display_data"
    }
   ],
   "source": [
    "temp = df[\"STADTKREIS\"].value_counts().sort_index()\n",
    "temp.plot.pie()\n",
    "temp = df[\"ALTER\"].value_counts().sort_index().to_frame()\n",
    "temp.plot.bar()\n",
    "temp = df[\"HALTER_ID\"].value_counts().head(10).to_frame()\n",
    "temp.plot.bar()"
   ]
  },
  {
   "cell_type": "code",
   "execution_count": 87,
   "id": "adf42a00",
   "metadata": {},
   "outputs": [
    {
     "data": {
      "text/plain": [
       "<AxesSubplot:>"
      ]
     },
     "execution_count": 87,
     "metadata": {},
     "output_type": "execute_result"
    },
    {
     "data": {
      "image/png": "[encoded data removed]",
      "text/plain": [
       "<Figure size 432x288 with 1 Axes>"
      ]
     },
     "metadata": {
      "needs_background": "light"
     },
     "output_type": "display_data"
    }
   ],
   "source": [
    "temp = df[\"GEBURTSJAHR_HUND\"].value_counts()\n",
    "temp = temp[temp>1].sort_index()\n",
    "temp.plot.bar()"
   ]
  },
  {
   "cell_type": "code",
   "execution_count": null,
   "id": "bb384071",
   "metadata": {},
   "outputs": [],
   "source": []
  }
 ],
 "metadata": {
  "kernelspec": {
   "display_name": "Python 3",
   "language": "python",
   "name": "python3"
  },
  "language_info": {
   "codemirror_mode": {
    "name": "ipython",
    "version": 3
   },
   "file_extension": ".py",
   "mimetype": "text/x-python",
   "name": "python",
   "nbconvert_exporter": "python",
   "pygments_lexer": "ipython3",
   "version": "3.8.8"
  }
 },
 "nbformat": 4,
 "nbformat_minor": 5
}
