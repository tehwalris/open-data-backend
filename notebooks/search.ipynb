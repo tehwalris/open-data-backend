{
 "cells": [
  {
   "cell_type": "code",
   "execution_count": 36,
   "id": "1bf85073-6585-400e-be28-01ed2fcf6b1c",
   "metadata": {},
   "outputs": [],
   "source": [
    "import pandas as pd\n",
    "import numpy as np\n",
    "from matplotlib import pyplot as plt\n",
    "from scipy import spatial\n",
    "from sklearn.manifold import TSNE\n",
    "import zipfile\n",
    "from tqdm import tqdm"
   ]
  },
  {
   "cell_type": "code",
   "execution_count": 5,
   "id": "eb5c6828-9be7-4e8b-9592-711ac0c3b27d",
   "metadata": {},
   "outputs": [],
   "source": [
    "import os\n",
    "import sys\n",
    "\n",
    "module_path = os.path.abspath(os.path.join('..'))\n",
    "if module_path not in sys.path:\n",
    "    sys.path.append(module_path)\n",
    "    \n",
    "%load_ext autoreload\n",
    "%autoreload 2\n",
    "\n",
    "from src.path import get_path_from_root"
   ]
  },
  {
   "cell_type": "code",
   "execution_count": 45,
   "id": "c8472637-dbbb-4f10-8eb0-87ab9af6a9e2",
   "metadata": {},
   "outputs": [
    {
     "name": "stderr",
     "output_type": "stream",
     "text": [
      "100%|██████████| 400000/400000 [00:07<00:00, 50705.29it/s]\n"
     ]
    }
   ],
   "source": [
    "embeddings_dict = {}\n",
    "with zipfile.ZipFile(str(get_path_from_root('data/search/glove.6B.csv')), 'r') as archive:\n",
    "    with archive.open(\"glove.6B.50d.txt\", 'r') as f:\n",
    "        for line in tqdm(f, total=400000):\n",
    "            line = str(line, encoding='utf-8')\n",
    "            parts = line.strip().split(' ')\n",
    "            word = parts[0]\n",
    "            vec = np.asarray(parts[1:], \"float32\")\n",
    "            embeddings_dict[word] = vec"
   ]
  },
  {
   "cell_type": "code",
   "execution_count": 47,
   "id": "76eded39-ccf7-4536-bc91-5c16890f8544",
   "metadata": {},
   "outputs": [
    {
     "data": {
      "text/plain": [
       "array([ 0.48698 , -0.45614 , -0.88501 , -0.58914 ,  0.75248 ,  0.1977  ,\n",
       "       -0.31347 , -0.67976 , -0.25581 , -0.86747 ,  0.95085 ,  0.62886 ,\n",
       "        0.98183 ,  0.68557 ,  0.38731 ,  0.63174 ,  0.70197 ,  0.85176 ,\n",
       "       -0.86779 ,  0.6683  , -0.77849 , -0.23294 ,  0.68584 , -0.50269 ,\n",
       "        0.39149 , -0.11991 , -0.58507 ,  1.0757  ,  0.55094 , -0.456   ,\n",
       "       -0.66728 , -0.16855 , -0.18119 ,  1.4549  , -0.50935 ,  0.40332 ,\n",
       "       -0.28225 ,  0.070051, -0.71228 , -0.33878 ,  0.34351 , -0.037361,\n",
       "        0.47597 , -0.57553 ,  0.73109 , -0.43637 ,  0.27931 ,  0.4762  ,\n",
       "       -0.86048 , -0.20388 ], dtype=float32)"
      ]
     },
     "execution_count": 47,
     "metadata": {},
     "output_type": "execute_result"
    }
   ],
   "source": [
    "embeddings_dict['walrus']"
   ]
  },
  {
   "cell_type": "code",
   "execution_count": null,
   "id": "2c283b30-e0ae-4677-a102-de0d368b80c9",
   "metadata": {},
   "outputs": [],
   "source": []
  }
 ],
 "metadata": {
  "kernelspec": {
   "display_name": "Python 3",
   "language": "python",
   "name": "python3"
  },
  "language_info": {
   "codemirror_mode": {
    "name": "ipython",
    "version": 3
   },
   "file_extension": ".py",
   "mimetype": "text/x-python",
   "name": "python",
   "nbconvert_exporter": "python",
   "pygments_lexer": "ipython3",
   "version": "3.9.6"
  }
 },
 "nbformat": 4,
 "nbformat_minor": 5
}
