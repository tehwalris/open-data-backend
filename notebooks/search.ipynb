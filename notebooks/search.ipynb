{
 "cells": [
  {
   "cell_type": "code",
   "execution_count": 1,
   "id": "1bf85073-6585-400e-be28-01ed2fcf6b1c",
   "metadata": {},
   "outputs": [],
   "source": [
    "import pandas as pd\n",
    "import numpy as np\n",
    "from matplotlib import pyplot as plt\n",
    "from scipy import spatial\n",
    "from sklearn.manifold import TSNE\n",
    "import zipfile\n",
    "from tqdm import tqdm\n",
    "import re"
   ]
  },
  {
   "cell_type": "code",
   "execution_count": 2,
   "id": "eb5c6828-9be7-4e8b-9592-711ac0c3b27d",
   "metadata": {},
   "outputs": [],
   "source": [
    "import os\n",
    "import sys\n",
    "\n",
    "module_path = os.path.abspath(os.path.join('..'))\n",
    "if module_path not in sys.path:\n",
    "    sys.path.append(module_path)\n",
    "    \n",
    "%load_ext autoreload\n",
    "%autoreload 2\n",
    "\n",
    "from src.path import get_path_from_root\n",
    "from src.questions import questions\n",
    "from src.search import load_embeddings_dict, rough_tokenize, rough_vecs_from_scentence, make_rank_question"
   ]
  },
  {
   "cell_type": "code",
   "execution_count": 3,
   "id": "c8472637-dbbb-4f10-8eb0-87ab9af6a9e2",
   "metadata": {},
   "outputs": [
    {
     "name": "stdout",
     "output_type": "stream",
     "text": [
      "400000\n"
     ]
    },
    {
     "data": {
      "text/plain": [
       "array([ 0.48698 , -0.45614 , -0.88501 , -0.58914 ,  0.75248 ,  0.1977  ,\n",
       "       -0.31347 , -0.67976 , -0.25581 , -0.86747 ,  0.95085 ,  0.62886 ,\n",
       "        0.98183 ,  0.68557 ,  0.38731 ,  0.63174 ,  0.70197 ,  0.85176 ,\n",
       "       -0.86779 ,  0.6683  , -0.77849 , -0.23294 ,  0.68584 , -0.50269 ,\n",
       "        0.39149 , -0.11991 , -0.58507 ,  1.0757  ,  0.55094 , -0.456   ,\n",
       "       -0.66728 , -0.16855 , -0.18119 ,  1.4549  , -0.50935 ,  0.40332 ,\n",
       "       -0.28225 ,  0.070051, -0.71228 , -0.33878 ,  0.34351 , -0.037361,\n",
       "        0.47597 , -0.57553 ,  0.73109 , -0.43637 ,  0.27931 ,  0.4762  ,\n",
       "       -0.86048 , -0.20388 ], dtype=float32)"
      ]
     },
     "execution_count": 3,
     "metadata": {},
     "output_type": "execute_result"
    }
   ],
   "source": [
    "embeddings_dict = load_embeddings_dict()\n",
    "print(len(embeddings_dict))\n",
    "embeddings_dict['walrus']"
   ]
  },
  {
   "cell_type": "code",
   "execution_count": 4,
   "id": "2c283b30-e0ae-4677-a102-de0d368b80c9",
   "metadata": {},
   "outputs": [
    {
     "data": {
      "text/plain": [
       "{'walrus-fish': 5.8787922859191895,\n",
       " 'walrus-cat': 4.8616862297058105,\n",
       " 'walrus-lift': 6.322596549987793,\n",
       " 'cat-cat': 0.0,\n",
       " 'cat-dog': 1.8846031427383423}"
      ]
     },
     "execution_count": 4,
     "metadata": {},
     "output_type": "execute_result"
    }
   ],
   "source": [
    "{\n",
    "    'walrus-fish': spatial.distance.euclidean(embeddings_dict['walrus'], embeddings_dict['fish']),\n",
    "    'walrus-cat': spatial.distance.euclidean(embeddings_dict['walrus'], embeddings_dict['cat']),\n",
    "    'walrus-lift': spatial.distance.euclidean(embeddings_dict['walrus'], embeddings_dict['lift']),\n",
    "    'cat-cat': spatial.distance.euclidean(embeddings_dict['cat'], embeddings_dict['cat']),\n",
    "    'cat-dog': spatial.distance.euclidean(embeddings_dict['cat'], embeddings_dict['dog']),\n",
    "}"
   ]
  },
  {
   "cell_type": "code",
   "execution_count": 5,
   "id": "95ff097c-3813-42e8-bfd0-ff7f1e5e96cc",
   "metadata": {},
   "outputs": [
    {
     "data": {
      "text/plain": [
       "['whats', 'my', 'best', 'friends', 'hat', 'colored', 'like']"
      ]
     },
     "execution_count": 5,
     "metadata": {},
     "output_type": "execute_result"
    }
   ],
   "source": [
    "rough_tokenize('What\\'s my best friend\\'s hat colored like in Zurich?')"
   ]
  },
  {
   "cell_type": "code",
   "execution_count": 6,
   "id": "940d0af8-f556-42e4-a6c8-0b1da2813780",
   "metadata": {
    "tags": []
   },
   "outputs": [
    {
     "data": {
      "text/plain": [
       "4"
      ]
     },
     "execution_count": 6,
     "metadata": {},
     "output_type": "execute_result"
    }
   ],
   "source": [
    "question_vecs = [\n",
    "    rough_vecs_from_scentence(q['text'], embeddings_dict)\n",
    "    for q in questions\n",
    "]\n",
    "len(question_vecs[0])"
   ]
  },
  {
   "cell_type": "code",
   "execution_count": 7,
   "id": "e03f8bfe-093b-4bb5-8731-e87a348faceb",
   "metadata": {},
   "outputs": [
    {
     "data": {
      "text/plain": [
       "[{'text': 'How old is the oldest building in Zurich?',\n",
       "  'rank': 8.483619540857944},\n",
       " {'text': 'How many buildings in Zurich are older than 100?',\n",
       "  'rank': 20.60789794227844},\n",
       " {'text': 'How many single-family houses are there in Zurich?',\n",
       "  'rank': 22.799968243924468},\n",
       " {'text': 'When was the oldest building in Zurich built?',\n",
       "  'rank': 24.698596945160944},\n",
       " {'text': 'Where is the tallest building in Zurich?',\n",
       "  'rank': 26.3936886691381}]"
      ]
     },
     "execution_count": 7,
     "metadata": {},
     "output_type": "execute_result"
    }
   ],
   "source": [
    "rank_question = make_rank_question('old buildings', embeddings_dict)\n",
    "temp = [\n",
    "    { 'text': q['text'], 'rank': rank_question(q_vec) }\n",
    "    for q, q_vec in zip(questions, question_vecs)\n",
    "]\n",
    "temp.sort(key=lambda e: e['rank'])\n",
    "temp[:5]"
   ]
  },
  {
   "cell_type": "code",
   "execution_count": null,
   "id": "d233a09b-0c9e-4ddf-9a8b-c052d1ce3455",
   "metadata": {},
   "outputs": [],
   "source": []
  }
 ],
 "metadata": {
  "kernelspec": {
   "display_name": "Python 3",
   "language": "python",
   "name": "python3"
  },
  "language_info": {
   "codemirror_mode": {
    "name": "ipython",
    "version": 3
   },
   "file_extension": ".py",
   "mimetype": "text/x-python",
   "name": "python",
   "nbconvert_exporter": "python",
   "pygments_lexer": "ipython3",
   "version": "3.9.6"
  }
 },
 "nbformat": 4,
 "nbformat_minor": 5
}
