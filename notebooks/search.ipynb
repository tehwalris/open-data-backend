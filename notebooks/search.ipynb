{
 "cells": [
  {
   "cell_type": "code",
   "execution_count": 190,
   "id": "1bf85073-6585-400e-be28-01ed2fcf6b1c",
   "metadata": {},
   "outputs": [],
   "source": [
    "import pandas as pd\n",
    "import numpy as np\n",
    "from matplotlib import pyplot as plt\n",
    "from scipy import spatial\n",
    "from sklearn.manifold import TSNE\n",
    "from sklearn.metrics import pairwise_distances\n",
    "import zipfile\n",
    "from tqdm import tqdm\n",
    "import re\n",
    "import random"
   ]
  },
  {
   "cell_type": "code",
   "execution_count": 12,
   "id": "eb5c6828-9be7-4e8b-9592-711ac0c3b27d",
   "metadata": {},
   "outputs": [
    {
     "name": "stdout",
     "output_type": "stream",
     "text": [
      "The autoreload extension is already loaded. To reload it, use:\n",
      "  %reload_ext autoreload\n"
     ]
    }
   ],
   "source": [
    "import os\n",
    "import sys\n",
    "\n",
    "module_path = os.path.abspath(os.path.join('..'))\n",
    "if module_path not in sys.path:\n",
    "    sys.path.append(module_path)\n",
    "    \n",
    "%load_ext autoreload\n",
    "%autoreload 2\n",
    "\n",
    "from src.path import get_path_from_root\n",
    "from src.questions import questions\n",
    "from src.search import load_embeddings_dict, rough_tokenize, make_rank_question, search_questions, load_question_vecs"
   ]
  },
  {
   "cell_type": "code",
   "execution_count": 4,
   "id": "c8472637-dbbb-4f10-8eb0-87ab9af6a9e2",
   "metadata": {},
   "outputs": [
    {
     "name": "stdout",
     "output_type": "stream",
     "text": [
      "400000\n"
     ]
    },
    {
     "data": {
      "text/plain": [
       "array([ 0.48698 , -0.45614 , -0.88501 , -0.58914 ,  0.75248 ,  0.1977  ,\n",
       "       -0.31347 , -0.67976 , -0.25581 , -0.86747 ,  0.95085 ,  0.62886 ,\n",
       "        0.98183 ,  0.68557 ,  0.38731 ,  0.63174 ,  0.70197 ,  0.85176 ,\n",
       "       -0.86779 ,  0.6683  , -0.77849 , -0.23294 ,  0.68584 , -0.50269 ,\n",
       "        0.39149 , -0.11991 , -0.58507 ,  1.0757  ,  0.55094 , -0.456   ,\n",
       "       -0.66728 , -0.16855 , -0.18119 ,  1.4549  , -0.50935 ,  0.40332 ,\n",
       "       -0.28225 ,  0.070051, -0.71228 , -0.33878 ,  0.34351 , -0.037361,\n",
       "        0.47597 , -0.57553 ,  0.73109 , -0.43637 ,  0.27931 ,  0.4762  ,\n",
       "       -0.86048 , -0.20388 ], dtype=float32)"
      ]
     },
     "execution_count": 4,
     "metadata": {},
     "output_type": "execute_result"
    }
   ],
   "source": [
    "embeddings_dict = load_embeddings_dict()\n",
    "print(len(embeddings_dict))\n",
    "embeddings_dict['walrus']"
   ]
  },
  {
   "cell_type": "code",
   "execution_count": 5,
   "id": "2c283b30-e0ae-4677-a102-de0d368b80c9",
   "metadata": {},
   "outputs": [
    {
     "data": {
      "text/plain": [
       "{'walrus-fish': 5.8787922859191895,\n",
       " 'walrus-cat': 4.8616862297058105,\n",
       " 'walrus-lift': 6.322596549987793,\n",
       " 'cat-cat': 0.0,\n",
       " 'cat-dog': 1.8846031427383423}"
      ]
     },
     "execution_count": 5,
     "metadata": {},
     "output_type": "execute_result"
    }
   ],
   "source": [
    "{\n",
    "    'walrus-fish': spatial.distance.euclidean(embeddings_dict['walrus'], embeddings_dict['fish']),\n",
    "    'walrus-cat': spatial.distance.euclidean(embeddings_dict['walrus'], embeddings_dict['cat']),\n",
    "    'walrus-lift': spatial.distance.euclidean(embeddings_dict['walrus'], embeddings_dict['lift']),\n",
    "    'cat-cat': spatial.distance.euclidean(embeddings_dict['cat'], embeddings_dict['cat']),\n",
    "    'cat-dog': spatial.distance.euclidean(embeddings_dict['cat'], embeddings_dict['dog']),\n",
    "}"
   ]
  },
  {
   "cell_type": "code",
   "execution_count": 7,
   "id": "95ff097c-3813-42e8-bfd0-ff7f1e5e96cc",
   "metadata": {},
   "outputs": [
    {
     "data": {
      "text/plain": [
       "['my', 'best', 'friend', 'hat', 'colored', 'like']"
      ]
     },
     "execution_count": 7,
     "metadata": {},
     "output_type": "execute_result"
    }
   ],
   "source": [
    "rough_tokenize('What\\'s my best friend\\'s hat colored like in Zurich?', embeddings_dict)"
   ]
  },
  {
   "cell_type": "code",
   "execution_count": 14,
   "id": "3b2b1c66-7f6b-4c0b-bfe9-851c7b871639",
   "metadata": {},
   "outputs": [
    {
     "data": {
      "text/plain": [
       "76"
      ]
     },
     "execution_count": 14,
     "metadata": {},
     "output_type": "execute_result"
    }
   ],
   "source": [
    "question_vecs = load_question_vecs()\n",
    "len(question_vecs)"
   ]
  },
  {
   "cell_type": "code",
   "execution_count": 15,
   "id": "e03f8bfe-093b-4bb5-8731-e87a348faceb",
   "metadata": {},
   "outputs": [
    {
     "data": {
      "text/plain": [
       "[{'id': 46, 'rank': (7.389457017118303, 3)},\n",
       " {'id': 47, 'rank': (8.77560891740643, 5)},\n",
       " {'id': 34, 'rank': (11.622080763863892, 3)},\n",
       " {'id': 35, 'rank': (11.622080763863892, 3)},\n",
       " {'id': 48, 'rank': (11.622080763863892, 4)}]"
      ]
     },
     "execution_count": 15,
     "metadata": {},
     "output_type": "execute_result"
    }
   ],
   "source": [
    "search_questions('old house', question_vecs, embeddings_dict)[:5]"
   ]
  },
  {
   "cell_type": "code",
   "execution_count": 16,
   "id": "11d04a50-2576-44da-b9dc-182f28e91c96",
   "metadata": {},
   "outputs": [
    {
     "data": {
      "text/plain": [
       "400000"
      ]
     },
     "execution_count": 16,
     "metadata": {},
     "output_type": "execute_result"
    }
   ],
   "source": [
    "len(embeddings_dict)"
   ]
  },
  {
   "cell_type": "code",
   "execution_count": 166,
   "id": "22b30c2e-efdd-4024-8785-a74461094e89",
   "metadata": {},
   "outputs": [
    {
     "name": "stdout",
     "output_type": "stream",
     "text": [
      "286849\n"
     ]
    }
   ],
   "source": [
    "good_words = []\n",
    "for w in embeddings_dict.keys():\n",
    "    if rough_tokenize(w, embeddings_dict) == [w]:\n",
    "        good_words.append(w)\n",
    "print(len(good_words))"
   ]
  },
  {
   "cell_type": "code",
   "execution_count": 173,
   "id": "f7fa5bd4-7300-4163-a28c-e524aa565bb0",
   "metadata": {},
   "outputs": [
    {
     "name": "stdout",
     "output_type": "stream",
     "text": [
      "sculpted | How many drinking fountains are there in Zurich?\n",
      "discouragement | How many foreigners live in Zurich?\n",
      "overabundance | How many foreigners live in Zurich?\n",
      "ordering | How many tram and bus stops are there in Zurich?\n",
      "cstc | How many tram and bus stops are there in Zurich?\n",
      "grinning | How many foreigners live in Zurich?\n",
      "awestruck | How many foreigners live in Zurich?\n",
      "roofer | How many dentists are there in Zurich?\n",
      "attempted | How many tram and bus stops are there in Zurich?\n",
      "announcement | How does energy use change over the course of a week?\n",
      "affront | How many foreigners live in Zurich?\n",
      "sprawling | Where is the tallest building in Zurich?\n",
      "conducive | What contributes to air pollution?\n",
      "orthopedic | How many dentists are there in Zurich?\n",
      "identical | How many buildings in Zurich are older than 100?\n",
      "brown | How many people in Zurich live with kids?\n",
      "bonda | How many tram and bus stops are there in Zurich?\n",
      "forced | When were dogs born in Zurich?\n",
      "comeback | How many apartments were built in Zurich the last 5 years?\n",
      "completed | How many trees are there on the streets of Zurich?\n",
      "soon | When were dogs born in Zurich?\n",
      "spoofed | How many foreigners live in Zurich?\n",
      "permanent | What contributes to air pollution?\n",
      "expanded | How does air pollution in Zurich change throughout the year?\n",
      "smallest | What is the highest number of dogs a person has in Zurich?\n",
      "creepy | How many people in Zurich live with kids?\n",
      "restaurant | How many apartments are there in Zurich?\n",
      "anciently | How many detached houses are there in Zurich?\n",
      "smu | How many tram and bus stops are there in Zurich?\n",
      "stubborn | How many foreigners live in Zurich?\n",
      "rabid | How many foreigners live in Zurich?\n",
      "held | How many trees are there on the streets of Zurich?\n",
      "classed | What dog breed is the most common?\n",
      "sight | How many people in Zurich live alone?\n",
      "regifting | How many foreigners live in Zurich?\n",
      "hoser | How many foreigners live in Zurich?\n",
      "door | How many floors does the biggest building in Zurich have?\n",
      "jacquemin | How many foreigners live in Zurich?\n",
      "psychotically | How many foreigners live in Zurich?\n",
      "deceitful | How many foreigners live in Zurich?\n",
      "principally | How does air pollution in Zurich change throughout the year?\n",
      "one | How many people in Zurich live with kids?\n",
      "meet | How many people move to Zurich every year?\n",
      "fairground | How many drinking fountains are there in Zurich?\n",
      "impression | How much particulate matter is there in Zurich?\n",
      "misidentify | How many foreigners live in Zurich?\n",
      "plucky | How many foreigners live in Zurich?\n",
      "fuel | How much electricity does Zurich use?\n",
      "academy | How many primary schools are there in Zurich?\n",
      "revolutionaries | How many foreigners live in Zurich?\n",
      "grasp | How much particulate matter is there in Zurich?\n",
      "originate | How many people in Zurich live alone?\n",
      "tree | How many trees are there on the streets of Zurich?\n",
      "return | What contributes to air pollution?\n",
      "dunleavy | How many tram and bus stops are there in Zurich?\n",
      "mandisa | How many foreigners live in Zurich?\n",
      "stranger | How many people in Zurich live with kids?\n",
      "pinned | How many foreigners live in Zurich?\n",
      "priority | What contributes to air pollution?\n",
      "cinephile | How many foreigners live in Zurich?\n",
      "60\n"
     ]
    }
   ],
   "source": [
    "res_count = 0\n",
    "for i in range(1000):\n",
    "    w = random.choice(good_words)\n",
    "    res = search_questions(w, question_vecs, embeddings_dict)\n",
    "    # print(w, len(res), res[0]['rank'] if len(res) else None)\n",
    "    if len(res) and res[0]['rank'][0] < 20:\n",
    "        res_count += 1\n",
    "        print(w, '|', next(q['text'] for q in questions if q['id'] == res[0]['id']))\n",
    "print(res_count)"
   ]
  },
  {
   "cell_type": "code",
   "execution_count": 171,
   "id": "6189394e-138d-46ce-ae18-aba20e90dde4",
   "metadata": {},
   "outputs": [
    {
     "data": {
      "text/plain": [
       "1584.6157893018785"
      ]
     },
     "execution_count": 171,
     "metadata": {},
     "output_type": "execute_result"
    }
   ],
   "source": [
    "100e6 / (286849 * (220 / 1000))"
   ]
  },
  {
   "cell_type": "code",
   "execution_count": 184,
   "id": "df03c10a-401e-4992-aaea-6114bb05cf45",
   "metadata": {},
   "outputs": [
    {
     "data": {
      "text/plain": [
       "(286849, 50)"
      ]
     },
     "execution_count": 184,
     "metadata": {},
     "output_type": "execute_result"
    }
   ],
   "source": [
    "good_word_embeddings = np.array([\n",
    "    embeddings_dict[w]\n",
    "    for w in good_words\n",
    "])\n",
    "good_word_embeddings.shape"
   ]
  },
  {
   "cell_type": "code",
   "execution_count": 188,
   "id": "d3333616-393f-4e07-851d-c4d97debd329",
   "metadata": {},
   "outputs": [
    {
     "name": "stdout",
     "output_type": "stream",
     "text": [
      "291\n"
     ]
    }
   ],
   "source": [
    "question_words = []\n",
    "question_words_ids = []\n",
    "for q in questions:\n",
    "    for w in rough_tokenize(q['text'], embeddings_dict):\n",
    "        if w not in embeddings_dict:\n",
    "            continue\n",
    "        question_words.append(w)\n",
    "        question_words_ids.append(q['id'])\n",
    "print(len(question_words))"
   ]
  },
  {
   "cell_type": "code",
   "execution_count": 189,
   "id": "4e38ad9c-db08-484f-96a1-5a2852ef0e7a",
   "metadata": {},
   "outputs": [
    {
     "data": {
      "text/plain": [
       "(291, 50)"
      ]
     },
     "execution_count": 189,
     "metadata": {},
     "output_type": "execute_result"
    }
   ],
   "source": [
    "question_word_embeddings = np.array([\n",
    "    embeddings_dict[w]\n",
    "    for w in question_words\n",
    "])\n",
    "question_word_embeddings.shape"
   ]
  },
  {
   "cell_type": "code",
   "execution_count": 227,
   "id": "ff3fd6f9-0681-4b0d-8a80-0293ecc3d151",
   "metadata": {},
   "outputs": [
    {
     "name": "stdout",
     "output_type": "stream",
     "text": [
      "(286849, 291)\n",
      "(62626, 291) 4.3970356 3.932997226715088\n"
     ]
    }
   ],
   "source": [
    "good_question_distances = pairwise_distances(good_word_embeddings, question_word_embeddings)\n",
    "print(good_question_distances.shape)\n",
    "good_question_distances = good_question_distances[good_question_distances.min(axis=1) <= np.sqrt(25)]\n",
    "print(\n",
    "    good_question_distances.shape,\n",
    "    good_question_distances[123, 45],\n",
    "    spatial.distance.euclidean(good_word_embeddings[123], question_word_embeddings[45]),\n",
    ")"
   ]
  },
  {
   "cell_type": "code",
   "execution_count": 210,
   "id": "79f10325-7ee4-4b87-b4b9-a710ac0f40ef",
   "metadata": {},
   "outputs": [
    {
     "data": {
      "text/plain": [
       "(286849, 76)"
      ]
     },
     "execution_count": 210,
     "metadata": {},
     "output_type": "execute_result"
    }
   ],
   "source": [
    "question_ids = [q['id'] for q in questions]\n",
    "question_ids.sort()\n",
    "assert question_ids[0] == 1\n",
    "assert question_ids[-1] == len(question_ids)\n",
    "\n",
    "temp = [None for q in questions]\n",
    "for q in questions:\n",
    "    word_indices = []\n",
    "    for word_index, question_id in enumerate(question_words_ids):\n",
    "        if question_id == q['id']:\n",
    "            word_indices.append(word_index)\n",
    "    temp[q['id'] - 1] = np.min(good_question_distances[:, word_indices], axis=1)\n",
    "good_question_distances_grouped = np.array(temp).T\n",
    "good_question_distances_grouped.shape"
   ]
  },
  {
   "cell_type": "code",
   "execution_count": 230,
   "id": "a5097279-fcc8-4a33-b6c1-d5dc2afa90cb",
   "metadata": {},
   "outputs": [
    {
     "data": {
      "text/plain": [
       "0.19038304"
      ]
     },
     "execution_count": 230,
     "metadata": {},
     "output_type": "execute_result"
    }
   ],
   "source": [
    "((62626 * 76) * 4) / 100e6"
   ]
  },
  {
   "cell_type": "code",
   "execution_count": 258,
   "id": "cac4abd4-fd0c-439e-b3e0-842df4d86584",
   "metadata": {},
   "outputs": [
    {
     "data": {
      "text/plain": [
       "(698, 2014, 'war')"
      ]
     },
     "execution_count": 258,
     "metadata": {},
     "output_type": "execute_result"
    }
   ],
   "source": [
    "def chunk_name_from_word(w):\n",
    "    l = 2\n",
    "    return w[:l].ljust(l, '_')\n",
    "\n",
    "word_indices_by_chunk = {}\n",
    "for i, w in enumerate(good_words):\n",
    "    chunk_name = chunk_name_from_word(w)\n",
    "    if chunk_name not in word_indices_by_chunk:\n",
    "        word_indices_by_chunk[chunk_name] = []\n",
    "    word_indices_by_chunk[chunk_name].append(i)\n",
    "    \n",
    "(\n",
    "    len(word_indices_by_chunk),\n",
    "    len(word_indices_by_chunk[chunk_name_from_word('walrus')]),\n",
    "    good_words[word_indices_by_chunk[chunk_name_from_word('walrus')][0]],\n",
    ")"
   ]
  },
  {
   "cell_type": "code",
   "execution_count": null,
   "id": "6cb0816e-a2c1-4a4a-8f72-25d8901aa2c3",
   "metadata": {},
   "outputs": [],
   "source": []
  }
 ],
 "metadata": {
  "kernelspec": {
   "display_name": "Python 3",
   "language": "python",
   "name": "python3"
  },
  "language_info": {
   "codemirror_mode": {
    "name": "ipython",
    "version": 3
   },
   "file_extension": ".py",
   "mimetype": "text/x-python",
   "name": "python",
   "nbconvert_exporter": "python",
   "pygments_lexer": "ipython3",
   "version": "3.9.6"
  }
 },
 "nbformat": 4,
 "nbformat_minor": 5
}
