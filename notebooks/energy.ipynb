{
 "cells": [
  {
   "cell_type": "code",
   "execution_count": 1,
   "id": "66b346eb-2a43-4d64-b835-d41574a52166",
   "metadata": {},
   "outputs": [],
   "source": [
    "import pandas as pd\n",
    "import numpy as np\n",
    "from matplotlib import pyplot as plt"
   ]
  },
  {
   "cell_type": "code",
   "execution_count": 3,
   "id": "96b6cf58-6f93-4316-a7e5-8a87e43842ac",
   "metadata": {},
   "outputs": [
    {
     "name": "stdout",
     "output_type": "stream",
     "text": [
      "The autoreload extension is already loaded. To reload it, use:\n",
      "  %reload_ext autoreload\n"
     ]
    }
   ],
   "source": [
    "import os\n",
    "import sys\n",
    "\n",
    "module_path = os.path.abspath(os.path.join('..'))\n",
    "if module_path not in sys.path:\n",
    "    sys.path.append(module_path)\n",
    "    \n",
    "%load_ext autoreload\n",
    "%autoreload 2\n",
    "\n",
    "from src.energy import load_data"
   ]
  },
  {
   "cell_type": "code",
   "execution_count": 4,
   "id": "5ef976ff-703d-4405-8ec9-a3d32342e118",
   "metadata": {},
   "outputs": [
    {
     "data": {
      "text/html": [
       "<div>\n",
       "<style scoped>\n",
       "    .dataframe tbody tr th:only-of-type {\n",
       "        vertical-align: middle;\n",
       "    }\n",
       "\n",
       "    .dataframe tbody tr th {\n",
       "        vertical-align: top;\n",
       "    }\n",
       "\n",
       "    .dataframe thead th {\n",
       "        text-align: right;\n",
       "    }\n",
       "</style>\n",
       "<table border=\"1\" class=\"dataframe\">\n",
       "  <thead>\n",
       "    <tr style=\"text-align: right;\">\n",
       "      <th></th>\n",
       "      <th>energy</th>\n",
       "    </tr>\n",
       "    <tr>\n",
       "      <th>date</th>\n",
       "      <th></th>\n",
       "    </tr>\n",
       "  </thead>\n",
       "  <tbody>\n",
       "    <tr>\n",
       "      <th>2019-01-01 00:15:00</th>\n",
       "      <td>65900.149402</td>\n",
       "    </tr>\n",
       "    <tr>\n",
       "      <th>2019-01-01 00:30:00</th>\n",
       "      <td>64840.326903</td>\n",
       "    </tr>\n",
       "    <tr>\n",
       "      <th>2019-01-01 00:45:00</th>\n",
       "      <td>63789.043352</td>\n",
       "    </tr>\n",
       "    <tr>\n",
       "      <th>2019-01-01 01:00:00</th>\n",
       "      <td>63138.277485</td>\n",
       "    </tr>\n",
       "    <tr>\n",
       "      <th>2019-01-01 01:15:00</th>\n",
       "      <td>62333.139659</td>\n",
       "    </tr>\n",
       "    <tr>\n",
       "      <th>...</th>\n",
       "      <td>...</td>\n",
       "    </tr>\n",
       "    <tr>\n",
       "      <th>2021-09-22 23:00:00</th>\n",
       "      <td>65398.437088</td>\n",
       "    </tr>\n",
       "    <tr>\n",
       "      <th>2021-09-22 23:15:00</th>\n",
       "      <td>63518.449866</td>\n",
       "    </tr>\n",
       "    <tr>\n",
       "      <th>2021-09-22 23:30:00</th>\n",
       "      <td>62283.622660</td>\n",
       "    </tr>\n",
       "    <tr>\n",
       "      <th>2021-09-22 23:45:00</th>\n",
       "      <td>60758.006616</td>\n",
       "    </tr>\n",
       "    <tr>\n",
       "      <th>2021-09-23 00:00:00</th>\n",
       "      <td>59347.379578</td>\n",
       "    </tr>\n",
       "  </tbody>\n",
       "</table>\n",
       "<p>96860 rows × 1 columns</p>\n",
       "</div>"
      ],
      "text/plain": [
       "                           energy\n",
       "date                             \n",
       "2019-01-01 00:15:00  65900.149402\n",
       "2019-01-01 00:30:00  64840.326903\n",
       "2019-01-01 00:45:00  63789.043352\n",
       "2019-01-01 01:00:00  63138.277485\n",
       "2019-01-01 01:15:00  62333.139659\n",
       "...                           ...\n",
       "2021-09-22 23:00:00  65398.437088\n",
       "2021-09-22 23:15:00  63518.449866\n",
       "2021-09-22 23:30:00  62283.622660\n",
       "2021-09-22 23:45:00  60758.006616\n",
       "2021-09-23 00:00:00  59347.379578\n",
       "\n",
       "[96860 rows x 1 columns]"
      ]
     },
     "execution_count": 4,
     "metadata": {},
     "output_type": "execute_result"
    }
   ],
   "source": [
    "df = load_data()\n",
    "df"
   ]
  },
  {
   "cell_type": "code",
   "execution_count": 5,
   "id": "8c04f8b8-dc88-44dc-a937-4e73aa10df4f",
   "metadata": {},
   "outputs": [
    {
     "data": {
      "image/png": "[encoded data removed]",
      "text/plain": [
       "<Figure size 432x288 with 1 Axes>"
      ]
     },
     "metadata": {
      "needs_background": "light"
     },
     "output_type": "display_data"
    }
   ],
   "source": [
    "df.plot();"
   ]
  },
  {
   "cell_type": "code",
   "execution_count": null,
   "id": "9a80ca13-b26e-4b3e-8bfb-8dd04d95b1cc",
   "metadata": {},
   "outputs": [],
   "source": []
  }
 ],
 "metadata": {
  "kernelspec": {
   "display_name": "Python 3",
   "language": "python",
   "name": "python3"
  },
  "language_info": {
   "codemirror_mode": {
    "name": "ipython",
    "version": 3
   },
   "file_extension": ".py",
   "mimetype": "text/x-python",
   "name": "python",
   "nbconvert_exporter": "python",
   "pygments_lexer": "ipython3",
   "version": "3.9.6"
  }
 },
 "nbformat": 4,
 "nbformat_minor": 5
}
